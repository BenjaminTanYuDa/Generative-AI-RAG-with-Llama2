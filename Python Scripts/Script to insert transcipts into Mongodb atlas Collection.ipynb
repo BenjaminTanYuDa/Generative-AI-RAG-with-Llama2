{
 "cells": [
  {
   "cell_type": "markdown",
   "id": "3409650b",
   "metadata": {},
   "source": [
    "### Import Libraries"
   ]
  },
  {
   "cell_type": "code",
   "execution_count": 5,
   "id": "0e735577",
   "metadata": {},
   "outputs": [],
   "source": [
    "import streamlit as st\n",
    "from langchain.callbacks.manager import CallbackManager\n",
    "from langchain.callbacks.streaming_stdout import StreamingStdOutCallbackHandler\n",
    "from langchain.chains import RetrievalQA\n",
    "from langchain.llms import LlamaCpp\n",
    "from langchain.vectorstores import MongoDBAtlasVectorSearch\n",
    "from langchain.embeddings import HuggingFaceEmbeddings\n",
    "from pymongo import MongoClient\n",
    "import config\n",
    "from langchain_community.llms import Ollama"
   ]
  },
  {
   "cell_type": "code",
   "execution_count": 8,
   "id": "104898b7",
   "metadata": {},
   "outputs": [],
   "source": [
    "from pymongo.mongo_client import MongoClient\n",
    "from pymongo.server_api import ServerApi\n",
    "from urllib.parse import quote_plus\n",
    "import pandas as pd\n",
    "import json\n",
    "\n",
    "username = quote_plus('<ENTER_YOUR_USERNAME>')\n",
    "password = quote_plus('<ENTER_YOUR_PASSWORD>')\n",
    "cluster = '<ENTER_YOUR_CLUSTER>'\n",
    "\n",
    "mongo_uri = \"mongodb+srv://\" + username + \":\" + password + \"@\" + cluster + \".ypsyghd.mongodb.net/?retryWrites=true&w=majority&appName=\" + cluster\n",
    "db_name = \"<ENTER_YOUR_DB>\"\n",
    "coll_name = \"<ENTER_YOUR_COLLECTION>\""
   ]
  },
  {
   "cell_type": "markdown",
   "id": "9f6f4233",
   "metadata": {},
   "source": [
    "### Insert JSON file into MongoDB Atlas with vector embeddings\n",
    "##### 1. Using a smaller number of JSON file for testing"
   ]
  },
  {
   "cell_type": "code",
   "execution_count": 35,
   "id": "a22bc183",
   "metadata": {
    "scrolled": true
   },
   "outputs": [
    {
     "name": "stdout",
     "output_type": "stream",
     "text": [
      "Inserted document for AAPL.json into MongoDB.\n",
      "Inserted document for MDB.json into MongoDB.\n",
      "Inserted document for MDB.json into MongoDB.\n",
      "Inserted document for MDB.json into MongoDB.\n",
      "Inserted document for MDB.json into MongoDB.\n",
      "Inserted document for MSFT.json into MongoDB.\n",
      "Inserted document for MSFT.json into MongoDB.\n",
      "Inserted document for NVDA.json into MongoDB.\n",
      "Inserted document for NVDA.json into MongoDB.\n",
      "Inserted document for NVDA.json into MongoDB.\n",
      "Inserted document for NVDA.json into MongoDB.\n",
      "Inserted document for QCOM.json into MongoDB.\n"
     ]
    }
   ],
   "source": [
    "from sentence_transformers import SentenceTransformer\n",
    "import pymongo\n",
    "import config\n",
    "import os\n",
    "import json\n",
    "\n",
    "mongo_uri = mongo_uri\n",
    "db = db_name\n",
    "collection = coll_name\n",
    "\n",
    "# initialize db connection\n",
    "connection = pymongo.MongoClient(mongo_uri)\n",
    "collection = connection[db][collection]\n",
    "\n",
    "# Define the path to the directory containing JSON files\n",
    "directory_path = 'earning_call_transcripts_json_test'\n",
    "\n",
    "# Initialize the SentenceTransformer model\n",
    "model = SentenceTransformer('sentence-transformers/all-MiniLM-L6-v2')\n",
    "\n",
    "# Process each JSON file in the directory\n",
    "for filename in os.listdir(directory_path):\n",
    "    if filename.endswith(\".json\"):\n",
    "        file_path = os.path.join(directory_path, filename)\n",
    "        with open(file_path, 'r', encoding='utf-8') as file:\n",
    "            data = json.load(file)\n",
    "            for record in data:\n",
    "                content = record.get(\"content\", \"\")\n",
    "                if content:\n",
    "                    # Compute the embedding\n",
    "                    embedding = model.encode(content).tolist()  # Convert to list for MongoDB compatibility\n",
    "                    # Prepare document to insert\n",
    "                    document = {\n",
    "                        \"filename\": filename,\n",
    "                        \"content\": content,\n",
    "                        \"embedding\": embedding\n",
    "                    }\n",
    "                    # Insert document into MongoDB\n",
    "                    collection.insert_one(document)\n",
    "                    print(f\"Inserted document for {filename} into MongoDB.\")\n",
    "\n",
    "# Note: Ensure that the MongoDB URI, database, and collection names are correctly configured."
   ]
  },
  {
   "cell_type": "markdown",
   "id": "79b33e5c",
   "metadata": {},
   "source": [
    "### Alternate code to ensure embedding is performed"
   ]
  },
  {
   "cell_type": "code",
   "execution_count": 38,
   "id": "017e247e",
   "metadata": {},
   "outputs": [],
   "source": [
    "from pymongo import MongoClient\n",
    "from sentence_transformers import SentenceTransformer\n",
    "\n",
    "# Initialize the SentenceTransformer model\n",
    "model = SentenceTransformer('sentence-transformers/all-MiniLM-L6-v2')\n",
    "\n",
    "# Process documents to compute embeddings\n",
    "for document in collection.find({\"content_embedding\": {\"$exists\": False}}).limit(10):\n",
    "    content = document.get(\"content\", \"\")\n",
    "    if content:  # Check if content is not empty\n",
    "        print(\"Computing vector for document ID:\", document[\"_id\"])\n",
    "        embedding = model.encode(content).tolist()  # Convert to list for MongoDB compatibility\n",
    "        # Update the document with the computed embedding\n",
    "        collection.update_one(\n",
    "            {\"_id\": document[\"_id\"]},\n",
    "            {\"$set\": {\"content_embedding\": embedding}},\n",
    "            upsert=True\n",
    "        )\n",
    "        print(\"Vector computed and stored for document ID:\", document[\"_id\"])\n",
    "    else:\n",
    "        print(\"No content available for document ID:\", document[\"_id\"])\n"
   ]
  }
 ],
 "metadata": {
  "kernelspec": {
   "display_name": "Python 3 (ipykernel)",
   "language": "python",
   "name": "python3"
  },
  "language_info": {
   "codemirror_mode": {
    "name": "ipython",
    "version": 3
   },
   "file_extension": ".py",
   "mimetype": "text/x-python",
   "name": "python",
   "nbconvert_exporter": "python",
   "pygments_lexer": "ipython3",
   "version": "3.11.5"
  }
 },
 "nbformat": 4,
 "nbformat_minor": 5
}
